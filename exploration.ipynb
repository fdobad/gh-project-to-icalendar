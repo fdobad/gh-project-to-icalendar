{
 "cells": [
  {
   "cell_type": "markdown",
   "id": "aea23053-3712-45af-b539-3f501b1e99ff",
   "metadata": {},
   "source": [
    "# getting github api\n",
    "https://docs.github.com/en/issues/planning-and-tracking-with-projects/automating-your-project/using-the-api-to-manage-projects?tool=curl"
   ]
  },
  {
   "cell_type": "markdown",
   "id": "d72da7f8-b94a-47c5-9f99-9ad7fd0a1a82",
   "metadata": {},
   "source": [
    "# setup"
   ]
  },
  {
   "cell_type": "code",
   "execution_count": null,
   "id": "9627b43c-afa8-41a4-8bdc-446ae184b90c",
   "metadata": {
    "tags": []
   },
   "outputs": [],
   "source": [
    "import json\n",
    "import requests\n",
    "import logging as log\n",
    "from pathlib import Path\n",
    "from datetime import datetime, timedelta  #, timezone\n",
    "from pandas import DataFrame, to_datetime  #, Timestamp, read_csv\n",
    "log.basicConfig(level=log.DEBUG)"
   ]
  },
  {
   "cell_type": "code",
   "execution_count": null,
   "id": "c2832880-3973-42dc-a5d5-176de890570a",
   "metadata": {
    "tags": []
   },
   "outputs": [],
   "source": [
    "# Set the URL and headers\n",
    "url = \"https://api.github.com/graphql\"\n",
    "TOKEN = Path('token.txt').read_text()\n",
    "# token expires 2 jun 2024\n",
    "headers = {'Authorization': f'Bearer {TOKEN}'}"
   ]
  },
  {
   "cell_type": "code",
   "execution_count": null,
   "id": "01a0481b-3979-41f6-aed6-2ae24028f7be",
   "metadata": {
    "tags": []
   },
   "outputs": [],
   "source": [
    "def printjson(x):\n",
    "    print(json.dumps(x, indent=2))\n",
    "\n",
    "\n",
    "def call_api(body, url=url, headers=headers):\n",
    "    # Make the request\n",
    "    response = requests.post(url, headers=headers, json={\"query\": body})\n",
    "    # Check the response status code\n",
    "    if response.status_code == 200:\n",
    "        log.debug('call success 200')\n",
    "        return response.json()\n",
    "    else:\n",
    "        log.warning(f'call unknown {response.status_code}')\n",
    "        return response"
   ]
  },
  {
   "cell_type": "markdown",
   "id": "0a504516-d1f9-4a24-b86c-501d7d424424",
   "metadata": {},
   "source": [
    "# whos logged"
   ]
  },
  {
   "cell_type": "code",
   "execution_count": null,
   "id": "0f78a515-70c9-4525-bf52-b187a17f23ea",
   "metadata": {
    "tags": []
   },
   "outputs": [],
   "source": [
    "body = \"query { viewer { login }}\"\n",
    "res = call_api(body)"
   ]
  },
  {
   "cell_type": "code",
   "execution_count": null,
   "id": "12d50b7f-8428-4e1a-895a-76c671d42c4b",
   "metadata": {
    "tags": []
   },
   "outputs": [],
   "source": [
    "USR = res['data']['viewer']['login']\n",
    "USR"
   ]
  },
  {
   "cell_type": "markdown",
   "id": "8cf333be-03c3-47f0-8820-e47f5605f675",
   "metadata": {},
   "source": [
    "# get project\n",
    "## by number\n",
    "Get project number by checking the link\n",
    "`http://github.com/users/<project_owner_user>/projects/<proj_number>`"
   ]
  },
  {
   "cell_type": "code",
   "execution_count": null,
   "id": "44215c90-e0e3-4f97-adb1-231338c56f31",
   "metadata": {
    "tags": []
   },
   "outputs": [],
   "source": [
    "body = 'query { user(login: \"'+USR+'\") {projectV2(number: 2) {id}}}'\n",
    "res = call_api(body)"
   ]
  },
  {
   "cell_type": "code",
   "execution_count": null,
   "id": "80ed67dd-056b-4e2e-b1e8-e9c17d4ee3b0",
   "metadata": {
    "tags": []
   },
   "outputs": [],
   "source": [
    "pId = res['data']['user']['projectV2']['id']\n",
    "pId"
   ]
  },
  {
   "cell_type": "markdown",
   "id": "c9685419-61b3-4e02-b642-13ecc240a190",
   "metadata": {},
   "source": [
    "## first 20 projects"
   ]
  },
  {
   "cell_type": "code",
   "execution_count": null,
   "id": "4a6a5c16-255b-4d17-b6bd-8523d61043e9",
   "metadata": {
    "tags": []
   },
   "outputs": [],
   "source": [
    "body = 'query { user(login: \"'+USR+'\") {projectsV2(first: 20) {nodes {id title}}}}'\n",
    "res = call_api(body)\n",
    "printjson(res)"
   ]
  },
  {
   "cell_type": "markdown",
   "id": "cb053be8-8b59-414c-bef5-18d595ca429e",
   "metadata": {},
   "source": [
    "## All project fields"
   ]
  },
  {
   "cell_type": "code",
   "execution_count": null,
   "id": "75c00a6c-5e47-43bb-8651-df07e5573ea6",
   "metadata": {
    "tags": []
   },
   "outputs": [],
   "source": [
    "body = 'query{ node(id: \"'+pId+'''\") { \n",
    "                ... on ProjectV2 { fields(first: 20) { nodes { \n",
    "                    ... on ProjectV2Field { id name } \n",
    "                    ... on ProjectV2IterationField { id name configuration { iterations { startDate id }}} \n",
    "                    ... on ProjectV2SingleSelectField { id name options { id name }}\n",
    "                }}}}}'''"
   ]
  },
  {
   "cell_type": "code",
   "execution_count": null,
   "id": "a6819a82-cf49-446b-8b5e-6c405e803ad8",
   "metadata": {
    "tags": []
   },
   "outputs": [],
   "source": [
    "res = call_api(body)\n",
    "printjson(res)"
   ]
  },
  {
   "cell_type": "code",
   "execution_count": null,
   "id": "bf70f793-0dea-4e8a-a8a3-ff65cc2e52aa",
   "metadata": {
    "tags": []
   },
   "outputs": [],
   "source": [
    "DataFrame(res[\"data\"][\"node\"][\"fields\"][\"nodes\"])"
   ]
  },
  {
   "cell_type": "code",
   "execution_count": null,
   "id": "4e544b58-6c8e-46bc-816e-2f4658354d9b",
   "metadata": {
    "tags": []
   },
   "outputs": [],
   "source": [
    "for statuses in filter(lambda x: x['name'] == 'Status', res[\"data\"][\"node\"][\"fields\"][\"nodes\"]):\n",
    "    print(statuses)\n",
    "    display(DataFrame(statuses['options']))"
   ]
  },
  {
   "cell_type": "code",
   "execution_count": null,
   "id": "1b17105a-922c-45aa-affa-e1b4194efabf",
   "metadata": {
    "tags": []
   },
   "outputs": [],
   "source": [
    "for sprints in filter(lambda x: x['name'] == 'Sprint', res[\"data\"][\"node\"][\"fields\"][\"nodes\"]):\n",
    "    print(sprints)\n",
    "    display(DataFrame(sprints['configuration']['iterations']))"
   ]
  },
  {
   "cell_type": "markdown",
   "id": "97d2c728-33ad-43f5-ba2a-36642775636f",
   "metadata": {},
   "source": [
    "## Common project fields"
   ]
  },
  {
   "cell_type": "code",
   "execution_count": null,
   "id": "9b0cfae6-761c-4c60-ba8b-8e26dff18a2f",
   "metadata": {
    "tags": []
   },
   "outputs": [],
   "source": [
    "body = 'query{ node(id: \"'+pId+'''\") { \n",
    "            ... on ProjectV2 { fields(first: 20) { nodes { \n",
    "                ... on ProjectV2FieldCommon { id name }}}}}}'''"
   ]
  },
  {
   "cell_type": "code",
   "execution_count": null,
   "id": "41a990ac-9c94-40f6-8ead-12d3707f7235",
   "metadata": {
    "tags": []
   },
   "outputs": [],
   "source": [
    "res = call_api(body)"
   ]
  },
  {
   "cell_type": "code",
   "execution_count": null,
   "id": "433b2dd7-12f2-4cb5-8e29-cf8c499189c3",
   "metadata": {
    "tags": []
   },
   "outputs": [],
   "source": [
    "DataFrame(res['data']['node']['fields']['nodes'])"
   ]
  },
  {
   "cell_type": "markdown",
   "id": "29352314-e440-4937-bc3d-7efb53687ade",
   "metadata": {
    "tags": []
   },
   "source": [
    "## [Finding information about items in a project](https://docs.github.com/en/issues/planning-and-tracking-with-projects/automating-your-project/using-the-api-to-manage-projects?tool=curl#finding-information-about-items-in-a-project)"
   ]
  },
  {
   "cell_type": "code",
   "execution_count": null,
   "id": "36d091da-2bab-488b-aaf8-99c1d27906c3",
   "metadata": {
    "tags": []
   },
   "outputs": [],
   "source": [
    "body = 'query{ node(id: \"'+pId+'''\") { \n",
    "            ... on ProjectV2 { items(first: 20) { nodes{ id fieldValues(first: 8) { nodes{ \n",
    "                ... on ProjectV2ItemFieldTextValue { text field { ... on ProjectV2FieldCommon {  name }}} \n",
    "                ... on ProjectV2ItemFieldDateValue { date field { ... on ProjectV2FieldCommon { name }}} \n",
    "                ... on ProjectV2ItemFieldSingleSelectValue { name field { \n",
    "                ... on ProjectV2FieldCommon { name }}}}}\n",
    "                content{ \n",
    "                    ... on DraftIssue { title body } \n",
    "                    ... on Issue { title assignees(first: 10) { nodes{ login }}} \n",
    "                    ... on PullRequest { title assignees(first: 10) { nodes{ login }}}}\n",
    "            }}}}}'''"
   ]
  },
  {
   "cell_type": "code",
   "execution_count": null,
   "id": "0a2318f4-f30a-40f6-8dd2-adc1f8d8dfad",
   "metadata": {
    "tags": []
   },
   "outputs": [],
   "source": [
    "res = call_api(body)\n",
    "#res"
   ]
  },
  {
   "cell_type": "markdown",
   "id": "f53d3641-746f-450d-8aab-4905a685f4c5",
   "metadata": {
    "tags": []
   },
   "source": [
    "### Parse logic\n",
    "    'id'\n",
    "    'fieldValues'\n",
    "        'name'  'field': {'name': 'Status'}\n",
    "        'date'  'field': {'name': 'Start'}\n",
    "                'field': {'name': 'Due'}\n",
    "    'content': 'title':\n",
    "               'assignees': {'nodes': [{'login':"
   ]
  },
  {
   "cell_type": "code",
   "execution_count": null,
   "id": "b65b7ab3-5413-43f4-971f-e1795d73995a",
   "metadata": {
    "tags": []
   },
   "outputs": [],
   "source": [
    "for node in res['data']['node']['items']['nodes']:\n",
    "    print()\n",
    "    #print(node)\n",
    "    #print(node.keys())\n",
    "    print('id', node['id'])\n",
    "    # content\n",
    "    if 'content' in node.keys():\n",
    "        if 'title' in node['content'].keys():\n",
    "            print('title', node['content']['title'])\n",
    "        if 'assignees' in node['content'].keys():\n",
    "            for i, ass in enumerate(node['content']['assignees']['nodes']):\n",
    "                print('assignee', i, ass['login'])\n",
    "        if 'body' in node['content'].keys():\n",
    "            print('body', node['content']['body'])\n",
    "    # fieldValues\n",
    "    if 'fieldValues' in node.keys():\n",
    "        for f in node['fieldValues']['nodes']:\n",
    "            if f:\n",
    "                if 'date' in f.keys():\n",
    "                    print(f['field']['name'], to_datetime(f['date']))\n",
    "                elif 'name' in f.keys():\n",
    "                    print(f['field']['name'], f['name'])\n",
    "    break"
   ]
  },
  {
   "cell_type": "markdown",
   "id": "e823fa7b-c250-4489-bac3-e1550ffb0785",
   "metadata": {},
   "source": [
    "# To ics calendar\n",
    "\n",
    "    PRODID - A unique identifier for a calendar. :-//John Doe//My Calendar//EN\n",
    "    VERSION - The version of the iCalendar standard that is used in the file.\n",
    "    METHOD - The method used to create the iCalendar file.\n",
    "    BEGIN:VCALENDAR - The start of the iCalendar file.\n",
    "    END:VCALENDAR - The end of the iCalendar file.\n",
    "\n",
    "    dtstart (ISO date)\n",
    "    summary\n",
    "\n",
    "Optional:\n",
    "\n",
    "    location\n",
    "    url\n",
    "    dtend (ISO date), duration (ISO date duration)\n",
    "    rdate, rrule\n",
    "    category, description\n",
    "    uid\n",
    "    geo (latitude, longitude)\n",
    "    attendee (partstat, role), contact, organizer\n",
    "    attach\n",
    "    status"
   ]
  },
  {
   "cell_type": "code",
   "execution_count": null,
   "id": "5e6f23df-f047-4f1b-b533-295530e991cf",
   "metadata": {
    "tags": []
   },
   "outputs": [],
   "source": [
    "with open('project2calendar.ics', 'wt') as afile:\n",
    "    afile.writelines([\n",
    "        'BEGIN:VCALENDAR\\n',\n",
    "        'VERSION:2.0\\n',\n",
    "        'PRODID:-//fdobad//ical v1.0//EN\\n'\n",
    "    ])\n",
    "    for node in res['data']['node']['items']['nodes']:\n",
    "        afile.write('BEGIN:VEVENT\\n')\n",
    "        # content\n",
    "        if 'content' in node.keys():\n",
    "            if 'title' in node['content'].keys():\n",
    "                title = node['content']['title'] if node['content']['title'] else 'no title'\n",
    "                afile.writelines(f'SUMMARY:\"{title.encode()}\"\\n')    \n",
    "            if 'assignees' in node['content'].keys():\n",
    "                for i, ass in enumerate(node['content']['assignees']['nodes']):\n",
    "                    usr = ass['login']\n",
    "                    afile.writelines(f'ATTENDEE:\"{usr.encode()}\"\\n')\n",
    "            #if 'body' in node['content'].keys():\n",
    "            #    descr = str(node['content']['body']).encode( errors=\"replace\")\n",
    "            #    afile.write(f'DESCRIPTION: \"{descr}\"\\n')\n",
    "        # fieldValues\n",
    "        if 'fieldValues' in node.keys():\n",
    "            for f in node['fieldValues']['nodes']:\n",
    "                if f:\n",
    "                    if 'date' in f.keys():\n",
    "                        if f['field']['name'] == 'Start':\n",
    "                            dts = to_datetime(f['date']) if to_datetime(f['date']) else datetime.now()\n",
    "                            dts = dts.strftime('%Y%m%dT%H%M%SZ')\n",
    "                            afile.writelines(f'DTSTART:{dts}\\n')\n",
    "                        elif f['field']['name'] == 'Due':\n",
    "                            dte = to_datetime(f['date']) if to_datetime(f['date']) else datetime.now()+timedelta(days=7)\n",
    "                            dte = dte.strftime('%Y%m%dT%H%M%SZ')\n",
    "                            afile.writelines(f'DTEND:{dte}\\n')\n",
    "                    elif 'name' in f.keys():\n",
    "                        st = f['name'] if f['name'] else 'no status'\n",
    "                        afile.writelines(f'STATUS:{st.encode()}\\n')\n",
    "        afile.write(f'UID:{node[\"id\"]}\\n')\n",
    "        afile.write('END:VEVENT\\n')\n",
    "    afile.write('END:VCALENDAR\\n')"
   ]
  }
 ],
 "metadata": {
  "kernelspec": {
   "display_name": "Python 3 (ipykernel)",
   "language": "python",
   "name": "python3"
  },
  "language_info": {
   "codemirror_mode": {
    "name": "ipython",
    "version": 3
   },
   "file_extension": ".py",
   "mimetype": "text/x-python",
   "name": "python",
   "nbconvert_exporter": "python",
   "pygments_lexer": "ipython3",
   "version": "3.9.13"
  }
 },
 "nbformat": 4,
 "nbformat_minor": 5
}
